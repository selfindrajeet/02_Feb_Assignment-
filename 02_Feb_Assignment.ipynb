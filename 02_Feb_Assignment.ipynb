{
 "cells": [
  {
   "cell_type": "markdown",
   "id": "ba6be391-c7cb-4c90-854d-ff78ed87fa86",
   "metadata": {},
   "source": [
    "Q1. Explain with an example each when to use a for loop and a while loop."
   ]
  },
  {
   "cell_type": "code",
   "execution_count": 4,
   "id": "7527fc00-0c7d-4b77-aaee-f777b7b613ad",
   "metadata": {},
   "outputs": [
    {
     "name": "stdout",
     "output_type": "stream",
     "text": [
      "1\n",
      "2\n",
      "3\n",
      "4\n",
      "5\n",
      "6\n",
      "7\n",
      "8\n",
      "9\n",
      "10\n"
     ]
    }
   ],
   "source": [
    "'''A for loop is used when you want to iterate over a sequence of items,\n",
    "such as a list, a tuple, a string, or a range. For example'''\n",
    "\n",
    "# Print the numbers from 1 to 10 using a for loop\n",
    "for i in range(1, 11):\n",
    "    print(i)"
   ]
  },
  {
   "cell_type": "code",
   "execution_count": 5,
   "id": "fc66014d-5ed3-4a32-b185-b1e271c5a31f",
   "metadata": {},
   "outputs": [
    {
     "name": "stdout",
     "output_type": "stream",
     "text": [
      "1\n",
      "2\n",
      "3\n",
      "4\n",
      "5\n",
      "6\n",
      "7\n",
      "8\n",
      "9\n",
      "10\n"
     ]
    }
   ],
   "source": [
    "'''A while loop is used when you want to repeat a block of code \n",
    "until a certain condition is met. For example'''\n",
    "\n",
    "# Print the numbers from 1 to 10 using a while loop\n",
    "i = 1\n",
    "while i <= 10:\n",
    "    print(i)\n",
    "    i = i + 1"
   ]
  },
  {
   "cell_type": "code",
   "execution_count": null,
   "id": "b68ac50b-b7d5-41d9-84bb-892718247ddf",
   "metadata": {},
   "outputs": [],
   "source": []
  },
  {
   "cell_type": "markdown",
   "id": "53a3e97d-6b6a-485c-a58c-2da76730618d",
   "metadata": {},
   "source": [
    "Q2. Write a python program to print the sum and product of the first 10 natural numbers using for\n",
    "and while loop."
   ]
  },
  {
   "cell_type": "code",
   "execution_count": 8,
   "id": "2262c49e-6bdb-489f-bec2-91a118c1c3b9",
   "metadata": {},
   "outputs": [
    {
     "name": "stdout",
     "output_type": "stream",
     "text": [
      "The sum is:  55\n"
     ]
    }
   ],
   "source": [
    "            #for loop\n",
    "#To print the sum of the first 10 natural numbers using a for loop,\n",
    "\n",
    "n = 10\n",
    "sum = 0\n",
    "for i in range(1, n+1):\n",
    "    sum = sum + i\n",
    "print (\"The sum is: \", sum)"
   ]
  },
  {
   "cell_type": "code",
   "execution_count": 9,
   "id": "5a205c70-2f52-4488-b153-df7306d5c68d",
   "metadata": {},
   "outputs": [
    {
     "name": "stdout",
     "output_type": "stream",
     "text": [
      "The product is:  3628800\n"
     ]
    }
   ],
   "source": [
    "            #for\n",
    "#To print the product of the first 10 natural numbers using a for loop,\n",
    "\n",
    "n = 10\n",
    "product = 1\n",
    "for i in range(1, n+1):\n",
    "    product = product * i\n",
    "print (\"The product is: \", product)"
   ]
  },
  {
   "cell_type": "code",
   "execution_count": 10,
   "id": "b6f84f14-150d-4fdd-81dc-98cabb6858ac",
   "metadata": {},
   "outputs": [
    {
     "name": "stdout",
     "output_type": "stream",
     "text": [
      "The sum is:  55\n"
     ]
    }
   ],
   "source": [
    "            #using while loop\n",
    "#To print the sum of the first 10 natural numbers using a while loop,\n",
    "\n",
    "n = 10\n",
    "i = 1\n",
    "sum = 0\n",
    "while (i <= n):\n",
    "    sum = sum + i\n",
    "    i = i + 1\n",
    "print (\"The sum is: \", sum)"
   ]
  },
  {
   "cell_type": "code",
   "execution_count": 11,
   "id": "b64c9cc9-a4a8-47c2-9b43-9c9783fcb2a9",
   "metadata": {},
   "outputs": [
    {
     "name": "stdout",
     "output_type": "stream",
     "text": [
      "The product is:  3628800\n"
     ]
    }
   ],
   "source": [
    "            #while loop\n",
    "#To print the product of the first 10 natural numbers using a while loop\n",
    "\n",
    "n = 10\n",
    "i = 1\n",
    "product = 1\n",
    "while (i <= n):\n",
    "    product = product * i\n",
    "    i = i + 1\n",
    "print (\"The product is: \", product)"
   ]
  },
  {
   "cell_type": "code",
   "execution_count": null,
   "id": "41799d00-72ae-4f4d-9232-5ba9f754c1be",
   "metadata": {},
   "outputs": [],
   "source": []
  },
  {
   "cell_type": "markdown",
   "id": "599c8615-f32f-49b3-894a-2a74c19c8018",
   "metadata": {},
   "source": [
    "Q3. Create a python program to compute the electricity bill for a household.\n",
    "The per-unit charges in rupees are as follows: For the first 100 units, the user will be charged Rs. 4.5 per\n",
    "unit, for the next 100 units, the user will be charged Rs. 6 per unit, and for the next 100 units, the user will\n",
    "be charged Rs. 10 per unit, After 300 units and above the user will be charged Rs. 20 per unit.\n",
    "You are required to take the units of electricity consumed in a month from the user as input.\n",
    "Your program must pass this test case: when the unit of electricity consumed by the user in a month is\n",
    "310, the total electricity bill should be 2250."
   ]
  },
  {
   "cell_type": "code",
   "execution_count": 12,
   "id": "e61863cd-9f09-4d4e-8a0d-6baaaca83277",
   "metadata": {},
   "outputs": [
    {
     "name": "stdin",
     "output_type": "stream",
     "text": [
      " 310\n"
     ]
    },
    {
     "name": "stdout",
     "output_type": "stream",
     "text": [
      "2250\n"
     ]
    }
   ],
   "source": [
    "unit = int(input())\n",
    "if (unit > 0 and unit <=100):\n",
    "    print(int(100*4.5))\n",
    "elif (unit > 100 and unit < 200):\n",
    "    print(int((100*4.5)+(unit-100)*6))\n",
    "elif (unit>200 and unit < 300):\n",
    "    print(int((100*4.5)+(100*6)+(unit-300)*10))\n",
    "elif (unit > 300):\n",
    "    print(int((100*4.5)+(100*6)+(100*10)+(unit-300)*20))"
   ]
  },
  {
   "cell_type": "code",
   "execution_count": null,
   "id": "4f1dd951-9028-403f-9b82-d4b3dd5db311",
   "metadata": {},
   "outputs": [],
   "source": []
  },
  {
   "cell_type": "markdown",
   "id": "30cef9e9-a002-41ae-9f25-eb024f9f7214",
   "metadata": {},
   "source": [
    "Q4. Create a list of numbers from 1 to 100. Use for loop and while loop to calculate the cube of each\n",
    "number and if the cube of that number is divisible by 4 or 5 then append that number in a list and print\n",
    "that list."
   ]
  },
  {
   "cell_type": "code",
   "execution_count": 14,
   "id": "048a5a4a-5f56-48c2-917d-869b39f2641b",
   "metadata": {},
   "outputs": [
    {
     "name": "stdout",
     "output_type": "stream",
     "text": [
      "\n",
      " using for loop\n",
      "\n",
      "The list of cubes in 1 to 100 that are divided by 4 or 5 is : \n",
      " [2, 4, 5, 6, 8, 10, 12, 14, 15, 16, 18, 20, 22, 24, 25, 26, 28, 30, 32, 34, 35, 36, 38, 40, 42, 44, 45, 46, 48, 50, 52, 54, 55, 56, 58, 60, 62, 64, 65, 66, 68, 70, 72, 74, 75, 76, 78, 80, 82, 84, 85, 86, 88, 90, 92, 94, 95, 96, 98, 100] \n",
      " using while loop\n",
      "\n",
      "The list of cubes in 1 to 100 that are divided by 4 or 5 is : \n",
      " [2, 4, 5, 6, 8, 10, 12, 14, 15, 16, 18, 20, 22, 24, 25, 26, 28, 30, 32, 34, 35, 36, 38, 40, 42, 44, 45, 46, 48, 50, 52, 54, 55, 56, 58, 60, 62, 64, 65, 66, 68, 70, 72, 74, 75, 76, 78, 80, 82, 84, 85, 86, 88, 90, 92, 94, 95, 96, 98, 100] "
     ]
    }
   ],
   "source": [
    "print(\"\\n using for loop\\n\")\n",
    "my_list=[]\n",
    "cube_ans=[]\n",
    "for i in range(1,101):\n",
    "    my_list.append(i)\n",
    "    cube=i**3\n",
    "    if(cube%4==0 or cube%5==0):\n",
    "        cube_ans.append(i)\n",
    "print(\"The list of cubes in 1 to 100 that are divided by 4 or 5 is : \\n\",cube_ans,end=\" \")\n",
    "\n",
    "##using while loop\n",
    "\n",
    "print(\"\\n using while loop\\n\")\n",
    "i=1\n",
    "while(i>=100):\n",
    "    myl_ist.append(i)\n",
    "    i+=1\n",
    "    cube=i**3\n",
    "    if(cube%4==0 or cube%5==0):\n",
    "        cube_ans.append(i)\n",
    "print(\"The list of cubes in 1 to 100 that are divided by 4 or 5 is : \\n\",cube_ans,end=\" \")"
   ]
  },
  {
   "cell_type": "code",
   "execution_count": null,
   "id": "9e648302-6f36-44e3-90a1-e877bbc3274a",
   "metadata": {},
   "outputs": [],
   "source": []
  },
  {
   "cell_type": "markdown",
   "id": "9cf6c81b-f24e-4e1b-91a7-7b577e6f29d2",
   "metadata": {},
   "source": [
    "Q5. Write a program to filter count vowels in the below-given string.\n",
    "string = \"I want to become a data scientist\""
   ]
  },
  {
   "cell_type": "code",
   "execution_count": 15,
   "id": "180fa2dd-524e-40f2-9582-7a4bc397b8d9",
   "metadata": {},
   "outputs": [
    {
     "name": "stdout",
     "output_type": "stream",
     "text": [
      "The number of vowels in string: 12\n"
     ]
    }
   ],
   "source": [
    "string = \"I want to become a data scientist\"\n",
    "vowels=\"aeiouAEIOU\"\n",
    "count=0\n",
    "for i in string:\n",
    "    if(i in vowels):\n",
    "        count+=1\n",
    "print(\"The number of vowels in string:\",count) "
   ]
  },
  {
   "cell_type": "code",
   "execution_count": null,
   "id": "3879cada-ad4a-437b-97ee-bcd47f986932",
   "metadata": {},
   "outputs": [],
   "source": []
  }
 ],
 "metadata": {
  "kernelspec": {
   "display_name": "Python 3 (ipykernel)",
   "language": "python",
   "name": "python3"
  },
  "language_info": {
   "codemirror_mode": {
    "name": "ipython",
    "version": 3
   },
   "file_extension": ".py",
   "mimetype": "text/x-python",
   "name": "python",
   "nbconvert_exporter": "python",
   "pygments_lexer": "ipython3",
   "version": "3.10.8"
  }
 },
 "nbformat": 4,
 "nbformat_minor": 5
}
